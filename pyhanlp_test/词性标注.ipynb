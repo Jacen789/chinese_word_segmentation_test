{
 "cells": [
  {
   "cell_type": "code",
   "execution_count": 1,
   "metadata": {},
   "outputs": [],
   "source": [
    "from pyhanlp import *"
   ]
  },
  {
   "cell_type": "markdown",
   "metadata": {},
   "source": [
    "# CRF词法分析器"
   ]
  },
  {
   "cell_type": "code",
   "execution_count": 2,
   "metadata": {},
   "outputs": [
    {
     "name": "stdout",
     "output_type": "stream",
     "text": [
      "商品/n 和/c 服务/vn\n",
      "[上海/ns 华安/nz 工业/n （/w 集团/n ）/w 公司/n]/nt 董事长/n 谭旭光/nr 和/c 秘书/n 胡花蕊/nr 来到/v [美国/ns 纽约/ns 现代/t 艺术/n 博物馆/n]/ns 参观/v\n",
      "[微软/nt 公司/n]/nt 於/p 1975年/t 由/p 比爾·蓋茲/n 和/c 保羅·艾倫/v 創立/v ，/w 18年/t 啟動/v 以/p 智慧/n 雲端/n 、/w 前端/n 為/v 導向/n 的/u 大/a 改組/vn 。/w\n"
     ]
    }
   ],
   "source": [
    "# CRF词法分析器\n",
    "tests = [\n",
    "    \"商品和服务\",\n",
    "    \"上海华安工业（集团）公司董事长谭旭光和秘书胡花蕊来到美国纽约现代艺术博物馆参观\",\n",
    "    \"微软公司於1975年由比爾·蓋茲和保羅·艾倫創立，18年啟動以智慧雲端、前端為導向的大改組。\"\n",
    "]\n",
    "CRFLexicalAnalyzer = JClass(\"com.hankcs.hanlp.model.crf.CRFLexicalAnalyzer\")\n",
    "analyzer = CRFLexicalAnalyzer()\n",
    "for sentence in tests:\n",
    "    print(analyzer.analyze(sentence))"
   ]
  },
  {
   "cell_type": "markdown",
   "metadata": {},
   "source": [
    "# 基于感知机序列标注的词法分析器，默认模型训练自1998人民日报语料1月份。欢迎在更大的语料库上训练，以得到更好的效果"
   ]
  },
  {
   "cell_type": "code",
   "execution_count": 3,
   "metadata": {},
   "outputs": [
    {
     "name": "stdout",
     "output_type": "stream",
     "text": [
      "[上海/ns 华安/nz 工业/n （/w 集团/n ）/w 公司/n]/nt 董事长/n 谭旭光/nr 和/c 秘书/n 胡花蕊/nr 来到/v [美国/ns 纽约/ns 现代/t 艺术/n 博物馆/n]/ns 参观/v\n",
      "[微软/nt 公司/n]/nt 於/p 1975年/t 由/p 比爾·蓋茲/n 和/c 保羅·艾倫/nr 創立/v ，/w 18年/t 啟動/v 以/p 智慧/n 雲端/n 、/w 前端/f 為/v 導向/n 的/u 大/a 改組/vn 。/w\n",
      "总统/n 普京/nr 与/c 特朗普/nrf 通/vn 电话/n 讨论/v 太空/s 探索/vn 技术/n 公司/n\n",
      "总统/n 普京/nr 与/c 特朗普/nrf 通/v 电话/n 讨论/v [太空/s 探索/vn 技术/n 公司/n]/nt\n",
      "主席/n 和/c 特朗/b 普通/a 电话/n\n",
      "我/r 在/p 浙江/ns 金华/nr 出生/v\n",
      "我/r 在/p 四川/ns 金华/ns 出生/v ，/w 我/r 的/u 名字/n 叫/v 金华/nr\n",
      "空格 \t\n",
      "\r",
      "\f",
      "统统/n 都/d 不要/d\n"
     ]
    }
   ],
   "source": [
    "# 基于感知机序列标注的词法分析器，默认模型训练自1998人民日报语料1月份。欢迎在更大的语料库上训练，以得到更好的效果。\n",
    "# 无论在何种语料上训练，都完全支持简繁全半角和大小写。\n",
    "PerceptronLexicalAnalyzer = JClass(\"com.hankcs.hanlp.model.perceptron.PerceptronLexicalAnalyzer\")\n",
    "analyzer = PerceptronLexicalAnalyzer()\n",
    "\n",
    "print(analyzer.analyze(\"上海华安工业（集团）公司董事长谭旭光和秘书胡花蕊来到美国纽约现代艺术博物馆参观\"))\n",
    "print(analyzer.analyze(\"微软公司於1975年由比爾·蓋茲和保羅·艾倫創立，18年啟動以智慧雲端、前端為導向的大改組。\"))\n",
    "\n",
    "# 任何模型总会有失误，特别是98年这种陈旧的语料库\n",
    "print(analyzer.analyze(\"总统普京与特朗普通电话讨论太空探索技术公司\"))\n",
    "# 支持在线学习\n",
    "analyzer.learn(\"与/c 特朗普/nr 通/v 电话/n 讨论/v [太空/s 探索/vn 技术/n 公司/n]/nt\")\n",
    "# 学习到新知识\n",
    "print(analyzer.analyze(\"总统普京与特朗普通电话讨论太空探索技术公司\"))\n",
    "# 还可以举一反三\n",
    "print(analyzer.analyze(\"主席和特朗普通电话\"))\n",
    "\n",
    "# 知识的泛化不是死板的规则，而是比较灵活的统计信息\n",
    "print(analyzer.analyze(\"我在浙江金华出生\"))\n",
    "analyzer.learn(\"在/p 浙江/ns 金华/ns 出生/v\")\n",
    "print(analyzer.analyze(\"我在四川金华出生，我的名字叫金华\"))\n",
    "\n",
    "# 请用户按需执行对空格制表符等的预处理，只有你最清楚自己的文本中都有些什么奇怪的东西\n",
    "print(analyzer.analyze(\"空格 \\t\\n\\r\\f&nbsp;统统都不要\"\n",
    "                       .replace(\"\\\\s+\", \"\")  # 去除所有空白符\n",
    "                       .replace(\"&nbsp;\", \"\")  # 如果一些文本中含有html控制符\n",
    "                       ))"
   ]
  },
  {
   "cell_type": "markdown",
   "metadata": {},
   "source": [
    "# 词性标注"
   ]
  },
  {
   "cell_type": "code",
   "execution_count": 4,
   "metadata": {},
   "outputs": [
    {
     "name": "stdout",
     "output_type": "stream",
     "text": [
      "未标注： [教授/nnt, 正在/d, 教授/nnt, 自然语言处理/nz, 课程/n]\n",
      "标注后： [教授/nnt, 正在/d, 教授/v, 自然语言处理/nz, 课程/n]\n"
     ]
    }
   ],
   "source": [
    "# 词性标注\n",
    "Segment = JClass(\"com.hankcs.hanlp.seg.Segment\")\n",
    "text = \"教授正在教授自然语言处理课程\"\n",
    "segment = HanLP.newSegment()\n",
    "\n",
    "print(\"未标注：\", segment.seg(text))\n",
    "segment.enablePartOfSpeechTagging(True)\n",
    "print(\"标注后：\", segment.seg(text))"
   ]
  }
 ],
 "metadata": {
  "kernelspec": {
   "display_name": "Python 3",
   "language": "python",
   "name": "python3"
  },
  "language_info": {
   "codemirror_mode": {
    "name": "ipython",
    "version": 3
   },
   "file_extension": ".py",
   "mimetype": "text/x-python",
   "name": "python",
   "nbconvert_exporter": "python",
   "pygments_lexer": "ipython3",
   "version": "3.6.5"
  }
 },
 "nbformat": 4,
 "nbformat_minor": 2
}
