{
 "cells": [
  {
   "cell_type": "code",
   "execution_count": 1,
   "metadata": {},
   "outputs": [],
   "source": [
    "import zipfile\n",
    "import os\n",
    "from pyhanlp.static import download, remove_file, HANLP_DATA_PATH\n",
    "from pyhanlp import SafeJClass"
   ]
  },
  {
   "cell_type": "code",
   "execution_count": 2,
   "metadata": {},
   "outputs": [],
   "source": [
    "def test_data_path():\n",
    "    \"\"\"\n",
    "    获取测试数据路径，位于$root/data/test，根目录由配置文件指定。\n",
    "    :return:\n",
    "    \"\"\"\n",
    "    data_path = os.path.join(HANLP_DATA_PATH, 'test')\n",
    "    if not os.path.isdir(data_path):\n",
    "        os.mkdir(data_path)\n",
    "    return data_path\n",
    "\n",
    "\n",
    "def ensure_data(data_name, data_url):\n",
    "    root_path = test_data_path()\n",
    "    dest_path = os.path.join(root_path, data_name)\n",
    "    if os.path.exists(dest_path):\n",
    "        return dest_path\n",
    "    if data_url.endswith('.zip'):\n",
    "        dest_path += '.zip'\n",
    "    download(data_url, dest_path)\n",
    "    if data_url.endswith('.zip'):\n",
    "        with zipfile.ZipFile(dest_path, \"r\") as archive:\n",
    "            archive.extractall(root_path)\n",
    "        remove_file(dest_path)\n",
    "        dest_path = dest_path[:-len('.zip')]\n",
    "    return dest_path"
   ]
  },
  {
   "cell_type": "code",
   "execution_count": 3,
   "metadata": {},
   "outputs": [],
   "source": [
    "NaiveBayesClassifier = SafeJClass('com.hankcs.hanlp.classification.classifiers.NaiveBayesClassifier')\n",
    "IOUtil = SafeJClass('com.hankcs.hanlp.corpus.io.IOUtil')\n",
    "\n",
    "\n",
    "def train_or_load_classifier():\n",
    "    corpus_path = ensure_data('搜狗文本分类语料库迷你版',\n",
    "                              'http://hanlp.linrunsoft.com/release/corpus/sogou-text-classification-corpus-mini.zip')\n",
    "    model_path = corpus_path + '.ser'\n",
    "    if os.path.isfile(model_path):\n",
    "        return NaiveBayesClassifier(IOUtil.readObjectFrom(model_path))\n",
    "    classifier = NaiveBayesClassifier()\n",
    "    classifier.train(corpus_path)\n",
    "    model = classifier.getModel()\n",
    "    IOUtil.saveObjectTo(model, model_path)\n",
    "    return model\n",
    "\n",
    "\n",
    "def predict(classifier, text):\n",
    "    print(\"《%16s》\\t属于分类\\t【%s】\" % (text, classifier.predict(text)))"
   ]
  },
  {
   "cell_type": "code",
   "execution_count": 4,
   "metadata": {},
   "outputs": [
    {
     "name": "stdout",
     "output_type": "stream",
     "text": [
      "《C罗压梅西内马尔蝉联金球奖 2017=C罗年》\t属于分类\t【{体育=0.8637617196745996, 健康=0.014469121768445715, 军事=0.006589123257703559, 教育=0.007972427960586236, 汽车=0.10720760733866494}】\n",
      "《英国造航母耗时8年仍未服役 被中国速度远远甩在身后》\t属于分类\t【{体育=2.209907569075156E-5, 健康=1.0846623476146764E-5, 军事=0.9998750303386768, 教育=1.3071545396513156E-5, 汽车=7.895241675997229E-5}】\n",
      "《 研究生考录模式亟待进一步专业化》\t属于分类\t【{体育=7.509698817179948E-4, 健康=0.04143764052468248, 军事=0.11245978186281155, 教育=0.8128512193185536, 汽车=0.03250038841223434}】\n",
      "《如果真想用食物解压,建议可以食用燕麦》\t属于分类\t【{体育=2.0619242068174192E-4, 健康=0.9994717764107434, 军事=4.762348283943773E-5, 教育=1.8389477703420083E-4, 汽车=9.051290870125925E-5}】\n",
      "《通用及其部分竞争对手目前正在考虑解决库存问题》\t属于分类\t【{体育=0.0049701068908872366, 健康=0.002510103050106112, 军事=0.10669008539615131, 教育=0.0017660661133897856, 汽车=0.8840636385494655}】\n"
     ]
    }
   ],
   "source": [
    "classifier = train_or_load_classifier()\n",
    "predict(classifier, \"C罗压梅西内马尔蝉联金球奖 2017=C罗年\")\n",
    "predict(classifier, \"英国造航母耗时8年仍未服役 被中国速度远远甩在身后\")\n",
    "predict(classifier, \"研究生考录模式亟待进一步专业化\")\n",
    "predict(classifier, \"如果真想用食物解压,建议可以食用燕麦\")\n",
    "predict(classifier, \"通用及其部分竞争对手目前正在考虑解决库存问题\")"
   ]
  },
  {
   "cell_type": "code",
   "execution_count": null,
   "metadata": {},
   "outputs": [],
   "source": []
  }
 ],
 "metadata": {
  "kernelspec": {
   "display_name": "Python 3",
   "language": "python",
   "name": "python3"
  },
  "language_info": {
   "codemirror_mode": {
    "name": "ipython",
    "version": 3
   },
   "file_extension": ".py",
   "mimetype": "text/x-python",
   "name": "python",
   "nbconvert_exporter": "python",
   "pygments_lexer": "ipython3",
   "version": "3.6.5"
  }
 },
 "nbformat": 4,
 "nbformat_minor": 2
}
