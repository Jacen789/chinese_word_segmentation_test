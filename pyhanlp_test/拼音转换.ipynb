{
 "cells": [
  {
   "cell_type": "code",
   "execution_count": 1,
   "metadata": {},
   "outputs": [],
   "source": [
    "from pyhanlp import *"
   ]
  },
  {
   "cell_type": "markdown",
   "metadata": {},
   "source": [
    "# 汉字转拼音"
   ]
  },
  {
   "cell_type": "code",
   "execution_count": 2,
   "metadata": {},
   "outputs": [
    {
     "name": "stdout",
     "output_type": "stream",
     "text": [
      "原文， 重载不是重任！\n",
      "拼音（数字音调）， [chong2, zai3, bu2, shi4, zhong4, ren4, none5]\n",
      "拼音（符号音调）， chóng, zǎi, bú, shì, zhòng, rèn, none, \n",
      "拼音（无音调）， chong, zai, bu, shi, zhong, ren, none, \n",
      "声调， 2, 3, 2, 4, 4, 4, 5, \n",
      "声母， ch, z, b, sh, zh, r, none, \n",
      "韵母， ong, ai, u, i, ong, en, none, \n",
      "输入法头， ch, z, b, sh, zh, r, none, \n",
      "jie zhi none none none none nian none\n",
      "jie zhi 2 0 1 2 nian ，\n"
     ]
    }
   ],
   "source": [
    "# 汉字转拼音\n",
    "Pinyin = JClass(\"com.hankcs.hanlp.dictionary.py.Pinyin\")\n",
    "text = \"重载不是重任！\"\n",
    "pinyin_list = HanLP.convertToPinyinList(text)\n",
    "\n",
    "print(\"原文，\", end=\" \")\n",
    "print(text)\n",
    "print(\"拼音（数字音调），\", end=\" \")\n",
    "print(pinyin_list)\n",
    "print(\"拼音（符号音调），\", end=\" \")\n",
    "for pinyin in pinyin_list:\n",
    "    print(\"%s,\" % pinyin.getPinyinWithToneMark(), end=\" \")\n",
    "print(\"\\n拼音（无音调），\", end=\" \")\n",
    "for pinyin in pinyin_list:\n",
    "    print(\"%s,\" % pinyin.getPinyinWithoutTone(), end=\" \")\n",
    "print(\"\\n声调，\", end=\" \")\n",
    "for pinyin in pinyin_list:\n",
    "    print(\"%s,\" % pinyin.getTone(), end=\" \")\n",
    "print(\"\\n声母，\", end=\" \")\n",
    "for pinyin in pinyin_list:\n",
    "    print(\"%s,\" % pinyin.getShengmu(), end=\" \")\n",
    "print(\"\\n韵母，\", end=\" \")\n",
    "for pinyin in pinyin_list:\n",
    "    print(\"%s,\" % pinyin.getYunmu(), end=\" \")\n",
    "print(\"\\n输入法头，\", end=\" \")\n",
    "for pinyin in pinyin_list:\n",
    "    print(\"%s,\" % pinyin.getHead(), end=\" \")\n",
    "\n",
    "print()\n",
    "# 拼音转换可选保留无拼音的原字符\n",
    "print(HanLP.convertToPinyinString(\"截至2012年，\", \" \", True))\n",
    "print(HanLP.convertToPinyinString(\"截至2012年，\", \" \", False))"
   ]
  },
  {
   "cell_type": "markdown",
   "metadata": {},
   "source": [
    "# HanLP中的数据结构和接口是灵活的，组合这些接口，可以自己创造新功能"
   ]
  },
  {
   "cell_type": "code",
   "execution_count": 3,
   "metadata": {},
   "outputs": [
    {
     "name": "stdout",
     "output_type": "stream",
     "text": [
      "[renmenrenweiyalujiangbujian/null, lvse/[滤色, 绿色]]\n"
     ]
    }
   ],
   "source": [
    "# HanLP中的数据结构和接口是灵活的，组合这些接口，可以自己创造新功能\n",
    "AhoCorasickDoubleArrayTrie = JClass(\n",
    "    \"com.hankcs.hanlp.collection.AhoCorasick.AhoCorasickDoubleArrayTrie\")\n",
    "StringDictionary = JClass(\n",
    "    \"com.hankcs.hanlp.corpus.dictionary.StringDictionary\")\n",
    "CommonAhoCorasickDoubleArrayTrieSegment = JClass(\n",
    "    \"com.hankcs.hanlp.seg.Other.CommonAhoCorasickDoubleArrayTrieSegment\")\n",
    "CommonAhoCorasickSegmentUtil = JClass(\n",
    "    \"com.hankcs.hanlp.seg.Other.CommonAhoCorasickSegmentUtil\")\n",
    "Config = JClass(\"com.hankcs.hanlp.HanLP$Config\")\n",
    "\n",
    "TreeMap = JClass(\"java.util.TreeMap\")\n",
    "TreeSet = JClass(\"java.util.TreeSet\")\n",
    "\n",
    "dictionary = StringDictionary()\n",
    "dictionary.load(Config.PinyinDictionaryPath)\n",
    "entry = {}\n",
    "m_map = TreeMap()\n",
    "for entry in dictionary.entrySet():\n",
    "    pinyins = entry.getValue().replace(\"[\\\\d,]\", \"\")\n",
    "    words = m_map.get(pinyins)\n",
    "    if words is None:\n",
    "        words = TreeSet()\n",
    "        m_map.put(pinyins, words)\n",
    "    words.add(entry.getKey())\n",
    "words = TreeSet()\n",
    "words.add(\"绿色\")\n",
    "words.add(\"滤色\")\n",
    "m_map.put(\"lvse\", words)\n",
    "\n",
    "segment = CommonAhoCorasickDoubleArrayTrieSegment(m_map)\n",
    "print(segment.segment(\"renmenrenweiyalujiangbujianlvse\"))"
   ]
  },
  {
   "cell_type": "code",
   "execution_count": null,
   "metadata": {},
   "outputs": [],
   "source": []
  }
 ],
 "metadata": {
  "kernelspec": {
   "display_name": "Python 3",
   "language": "python",
   "name": "python3"
  },
  "language_info": {
   "codemirror_mode": {
    "name": "ipython",
    "version": 3
   },
   "file_extension": ".py",
   "mimetype": "text/x-python",
   "name": "python",
   "nbconvert_exporter": "python",
   "pygments_lexer": "ipython3",
   "version": "3.6.5"
  }
 },
 "nbformat": 4,
 "nbformat_minor": 2
}
