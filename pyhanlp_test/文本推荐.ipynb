{
 "cells": [
  {
   "cell_type": "code",
   "execution_count": 1,
   "metadata": {},
   "outputs": [],
   "source": [
    "from pyhanlp import *"
   ]
  },
  {
   "cell_type": "markdown",
   "metadata": {},
   "source": [
    "# 文本推荐(句子级别，从一系列句子中挑出与输入句子最相似的那一个)"
   ]
  },
  {
   "cell_type": "code",
   "execution_count": 2,
   "metadata": {},
   "outputs": [
    {
     "name": "stdout",
     "output_type": "stream",
     "text": [
      "[威廉王子发表演说 呼吁保护野生动物, 英报告说空气污染带来“公共健康危机”]\n",
      "[英报告说空气污染带来“公共健康危机”]\n",
      "[《时代》年度人物最终入围名单出炉 普京马云入选]\n",
      "[魅惑天后许佳慧不爱“预谋” 独唱《许某某》]\n"
     ]
    }
   ],
   "source": [
    "# 文本推荐(句子级别，从一系列句子中挑出与输入句子最相似的那一个)\n",
    "Suggester = JClass(\"com.hankcs.hanlp.suggest.Suggester\")\n",
    "suggester = Suggester()\n",
    "title_array = [\n",
    "    \"威廉王子发表演说 呼吁保护野生动物\",\n",
    "    \"魅惑天后许佳慧不爱“预谋” 独唱《许某某》\",\n",
    "    \"《时代》年度人物最终入围名单出炉 普京马云入选\",\n",
    "    \"“黑格比”横扫菲：菲吸取“海燕”经验及早疏散\",\n",
    "    \"日本保密法将正式生效 日媒指其损害国民知情权\",\n",
    "    \"英报告说空气污染带来“公共健康危机”\"\n",
    "]\n",
    "for title in title_array:\n",
    "    suggester.addSentence(title)\n",
    "\n",
    "print(suggester.suggest(\"陈述\", 2))  # 语义\n",
    "print(suggester.suggest(\"危机公关\", 1))  # 字符\n",
    "print(suggester.suggest(\"mayun\", 1))  # 拼音\n",
    "print(suggester.suggest(\"徐家汇\", 1))  # 拼音"
   ]
  },
  {
   "cell_type": "code",
   "execution_count": null,
   "metadata": {},
   "outputs": [],
   "source": []
  }
 ],
 "metadata": {
  "kernelspec": {
   "display_name": "Python 3",
   "language": "python",
   "name": "python3"
  },
  "language_info": {
   "codemirror_mode": {
    "name": "ipython",
    "version": 3
   },
   "file_extension": ".py",
   "mimetype": "text/x-python",
   "name": "python",
   "nbconvert_exporter": "python",
   "pygments_lexer": "ipython3",
   "version": "3.6.5"
  }
 },
 "nbformat": 4,
 "nbformat_minor": 2
}
