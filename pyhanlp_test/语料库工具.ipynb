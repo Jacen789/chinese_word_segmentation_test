{
 "cells": [
  {
   "cell_type": "code",
   "execution_count": 1,
   "metadata": {},
   "outputs": [],
   "source": [
    "from pyhanlp import *"
   ]
  },
  {
   "cell_type": "markdown",
   "metadata": {},
   "source": [
    "# 演示词共现统计"
   ]
  },
  {
   "cell_type": "code",
   "execution_count": 2,
   "metadata": {},
   "outputs": [
    {
     "name": "stdout",
     "output_type": "stream",
     "text": [
      "信息=1\n",
      "先进=1\n",
      "图像=1\n",
      "图形=1\n",
      "处理=2\n",
      "技术=1\n",
      "方面=1\n",
      "比较=1\n",
      "目前=1\n",
      "算法=2\n",
      "视频=2\n",
      "计算机=1\n",
      "音=1\n",
      "\n",
      "信息→算法= tf=1 mi=8.713143111007891 le=0.0 re=0.0 score=NaN\n",
      "先进→视频= tf=1 mi=6.451079180589085 le=0.0 re=0.0 score=NaN\n",
      "图像→技术= tf=1 mi=7.207932334602241 le=0.0 re=0.0 score=NaN\n",
      "图形→图像= tf=1 mi=12.339379582248355 le=0.0 re=0.0 score=NaN\n",
      "处理→方面= tf=1 mi=3.9000932023763872 le=0.0 re=0.0 score=NaN\n",
      "处理→算法= tf=1 mi=9.104492277137243 le=0.0 re=0.0 score=NaN\n",
      "技术→信息= tf=1 mi=3.8693779358135583 le=0.0 re=0.0 score=NaN\n",
      "方面→目前= tf=1 mi=12.682109172098322 le=0.0 re=0.0 score=NaN\n",
      "比较→先进= tf=1 mi=5.906980690246837 le=0.0 re=0.0 score=NaN\n",
      "目前→比较= tf=1 mi=13.23476122866847 le=0.0 re=0.0 score=NaN\n",
      "算法→处理= tf=1 mi=9.104492277137243 le=0.0 re=0.0 score=NaN\n",
      "视频→图形= tf=1 mi=10.041190100727349 le=0.0 re=0.0 score=NaN\n",
      "视频→处理= tf=1 mi=4.9968437492887805 le=0.0 re=0.0 score=NaN\n",
      "计算机→音= tf=1 mi=10.441320189120539 le=0.0 re=0.0 score=NaN\n",
      "音→视频= tf=1 mi=8.362759316806295 le=0.0 re=0.0 score=NaN\n",
      "\n",
      "信息→算法→处理= tf=1 mi=0.0 le=0.0 re=0.0\n",
      "先进→视频→处理= tf=1 mi=0.0 le=0.0 re=0.0\n",
      "图像→技术→信息= tf=1 mi=0.0 le=0.0 re=0.0\n",
      "图形→图像→技术= tf=1 mi=0.0 le=0.0 re=0.0\n",
      "处理→方面→目前= tf=1 mi=0.0 le=0.0 re=0.0\n",
      "技术→信息→算法= tf=1 mi=0.0 le=0.0 re=0.0\n",
      "方面→目前→比较= tf=1 mi=0.0 le=0.0 re=0.0\n",
      "比较→先进→视频= tf=1 mi=0.0 le=0.0 re=0.0\n",
      "目前→比较→先进= tf=1 mi=0.0 le=0.0 re=0.0\n",
      "算法→处理→方面= tf=1 mi=0.0 le=0.0 re=0.0\n",
      "视频→图形→图像= tf=1 mi=0.0 le=0.0 re=0.0\n",
      "视频→处理→算法= tf=1 mi=0.0 le=0.0 re=0.0\n",
      "计算机→音→视频= tf=1 mi=0.0 le=0.0 re=0.0\n",
      "音→视频→图形= tf=1 mi=0.0 le=0.0 re=0.0\n"
     ]
    }
   ],
   "source": [
    "# 演示词共现统计\n",
    "Occurrence = JClass(\"com.hankcs.hanlp.corpus.occurrence.Occurrence\")\n",
    "PairFrequency = JClass(\"com.hankcs.hanlp.corpus.occurrence.PairFrequency\")\n",
    "TermFrequency = JClass(\"com.hankcs.hanlp.corpus.occurrence.TermFrequency\")\n",
    "TriaFrequency = JClass(\"com.hankcs.hanlp.corpus.occurrence.TriaFrequency\")\n",
    "\n",
    "occurrence = Occurrence()\n",
    "occurrence.addAll(\"在计算机音视频和图形图像技术等二维信息算法处理方面目前比较先进的视频处理算法\")\n",
    "occurrence.compute()\n",
    "\n",
    "unigram = occurrence.getUniGram()\n",
    "for entry in unigram.iterator():\n",
    "    term_frequency = entry.getValue()\n",
    "    print(term_frequency)\n",
    "print()\n",
    "\n",
    "bigram = occurrence.getBiGram()\n",
    "for entry in bigram.iterator():\n",
    "    pair_frequency = entry.getValue()\n",
    "    if pair_frequency.isRight():\n",
    "        print(pair_frequency)\n",
    "print()\n",
    "\n",
    "trigram = occurrence.getTriGram()\n",
    "for entry in trigram.iterator():\n",
    "    tria_frequency = entry.getValue()\n",
    "    if tria_frequency.isRight():\n",
    "        print(tria_frequency)"
   ]
  },
  {
   "cell_type": "code",
   "execution_count": null,
   "metadata": {},
   "outputs": [],
   "source": []
  }
 ],
 "metadata": {
  "kernelspec": {
   "display_name": "Python 3",
   "language": "python",
   "name": "python3"
  },
  "language_info": {
   "codemirror_mode": {
    "name": "ipython",
    "version": 3
   },
   "file_extension": ".py",
   "mimetype": "text/x-python",
   "name": "python",
   "nbconvert_exporter": "python",
   "pygments_lexer": "ipython3",
   "version": "3.6.5"
  }
 },
 "nbformat": 4,
 "nbformat_minor": 2
}
