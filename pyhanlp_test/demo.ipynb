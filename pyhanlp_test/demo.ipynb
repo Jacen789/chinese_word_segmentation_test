{
 "cells": [
  {
   "cell_type": "code",
   "execution_count": 1,
   "metadata": {},
   "outputs": [],
   "source": [
    "from pyhanlp import *"
   ]
  },
  {
   "cell_type": "code",
   "execution_count": 2,
   "metadata": {},
   "outputs": [
    {
     "name": "stdout",
     "output_type": "stream",
     "text": [
      "[你好/vl, ，/w, 欢迎/v, 在/p, Python/nx, 中/f, 调用/v, HanLP/nx, 的/ude1, API/nx]\n",
      "下雨天\tn\n",
      "地面\tn\n",
      "积水\tn\n",
      "[商品/n, 和/cc, 服务/vn]\n",
      "[结婚/vi, 的/ude1, 和/cc, 尚未/d, 结婚/vi, 的/ude1, 确实/ad, 在/p, 干扰/vn, 分词/n, 啊/y]\n",
      "[买/v, 水果/n, 然后/c, 来/vf, 世博园/n, 最后/f, 去/vf, 世博会/n]\n",
      "[中国/ns, 的/ude1, 首都/n, 是/vshi, 北京/ns]\n",
      "[欢迎/v, 新/a, 老/a, 师生/n, 前来/vi, 就餐/vi]\n",
      "[工信处/n, 女/b, 干事/nnt, 每月/t, 经过/p, 下属/v, 科室/n, 都/d, 要/v, 亲口/d, 交代/v, 24/m, 口/n, 交换机/n, 等/udeng, 技术性/n, 器件/n, 的/ude1, 安装/v, 工作/vn]\n",
      "[随着/p, 页游/nz, 兴起/v, 到/v, 现在/t, 的/ude1, 页游/nz, 繁盛/a, ，/w, 依赖于/v, 存档/vi, 进行/vn, 逻辑/n, 判断/v, 的/ude1, 设计/vn, 减少/v, 了/ule, ，/w, 但/c, 这/rzv, 块/q, 也/d, 不能/v, 完全/ad, 忽略/v, 掉/v, 。/w]\n"
     ]
    }
   ],
   "source": [
    "# 中文分词\n",
    "print(HanLP.segment('你好，欢迎在Python中调用HanLP的API'))\n",
    "for term in HanLP.segment('下雨天地面积水'):\n",
    "    print('{}\\t{}'.format(term.word, term.nature))  # 获取单词与词性\n",
    "testCases = [\n",
    "    \"商品和服务\",\n",
    "    \"结婚的和尚未结婚的确实在干扰分词啊\",\n",
    "    \"买水果然后来世博园最后去世博会\",\n",
    "    \"中国的首都是北京\",\n",
    "    \"欢迎新老师生前来就餐\",\n",
    "    \"工信处女干事每月经过下属科室都要亲口交代24口交换机等技术性器件的安装工作\",\n",
    "    \"随着页游兴起到现在的页游繁盛，依赖于存档进行逻辑判断的设计减少了，但这块也不能完全忽略掉。\"\n",
    "]\n",
    "for sentence in testCases:\n",
    "    print(HanLP.segment(sentence))"
   ]
  },
  {
   "cell_type": "code",
   "execution_count": 3,
   "metadata": {},
   "outputs": [
    {
     "name": "stdout",
     "output_type": "stream",
     "text": [
      "[水资源, 陈明忠]\n",
      "[严格地进行水资源论证和取水许可的批准, 有部分省超过红线的指标, 水利部水资源司司长陈明忠9月29日在国务院新闻办举行的新闻发布会上透露]\n"
     ]
    }
   ],
   "source": [
    "document = \"水利部水资源司司长陈明忠9月29日在国务院新闻办举行的新闻发布会上透露，\" \\\n",
    "           \"根据刚刚完成了水资源管理制度的考核，有部分省接近了红线的指标，\" \\\n",
    "           \"有部分省超过红线的指标。对一些超过红线的地方，陈明忠表示，对一些取用水项目进行区域的限批，\" \\\n",
    "           \"严格地进行水资源论证和取水许可的批准。\"\n",
    "# 关键词提取\n",
    "print(HanLP.extractKeyword(document, 2))\n",
    "# 自动摘要\n",
    "print(HanLP.extractSummary(document, 3))"
   ]
  },
  {
   "cell_type": "code",
   "execution_count": 4,
   "metadata": {},
   "outputs": [
    {
     "name": "stdout",
     "output_type": "stream",
     "text": [
      "1\t徐先生\t徐先生\tnh\tnr\t_\t4\t主谓关系\t_\t_\n",
      "2\t还\t还\td\td\t_\t4\t状中结构\t_\t_\n",
      "3\t具体\t具体\ta\tad\t_\t4\t状中结构\t_\t_\n",
      "4\t帮助\t帮助\tv\tv\t_\t0\t核心关系\t_\t_\n",
      "5\t他\t他\tr\tr\t_\t4\t兼语\t_\t_\n",
      "6\t确定\t确定\tv\tv\t_\t4\t动宾关系\t_\t_\n",
      "7\t了\t了\tu\tu\t_\t6\t右附加关系\t_\t_\n",
      "8\t把\t把\tp\tp\t_\t15\t状中结构\t_\t_\n",
      "9\t画\t画\tv\tv\t_\t8\t介宾关系\t_\t_\n",
      "10\t雄鹰\t雄鹰\tn\tn\t_\t9\t动宾关系\t_\t_\n",
      "11\t、\t、\twp\tw\t_\t12\t标点符号\t_\t_\n",
      "12\t松鼠\t松鼠\tn\tn\t_\t10\t并列关系\t_\t_\n",
      "13\t和\t和\tc\tc\t_\t14\t左附加关系\t_\t_\n",
      "14\t麻雀\t麻雀\tn\tn\t_\t10\t并列关系\t_\t_\n",
      "15\t作为\t作为\tv\tv\t_\t6\t动宾关系\t_\t_\n",
      "16\t主攻\t主攻\tv\tvn\t_\t17\t定中关系\t_\t_\n",
      "17\t目标\t目标\tn\tn\t_\t15\t动宾关系\t_\t_\n",
      "18\t。\t。\twp\tw\t_\t4\t标点符号\t_\t_\n",
      "\n"
     ]
    }
   ],
   "source": [
    "# 依存句法分析\n",
    "sentence = \"徐先生还具体帮助他确定了把画雄鹰、松鼠和麻雀作为主攻目标。\"\n",
    "print(HanLP.parseDependency(sentence))"
   ]
  },
  {
   "cell_type": "code",
   "execution_count": 5,
   "metadata": {},
   "outputs": [
    {
     "name": "stdout",
     "output_type": "stream",
     "text": [
      "[上海/ns 华安/nz 工业/n （/w 集团/n ）/w 公司/n]/nt 董事长/n 谭旭光/nr 和/c 秘书/n 胡花蕊/nr 来到/v [美国/ns 纽约/ns 现代/t 艺术/n 博物馆/n]/ns 参观/v\n",
      "总统/n 普京/nr 与/c 特朗普/nrf 通/vn 电话/n 讨论/v 太空/s 探索/vn 技术/n 公司/n\n",
      "总统/n 普京/nr 与/c 特朗普/nrf 通/v 电话/n 讨论/v [太空/s 探索/vn 技术/n 公司/n]/nt\n",
      "主席/n 与/c 特朗普/nrf 通/v 电话/n\n",
      "主席/n 和/c 特朗/b 普通/a 电话/n\n",
      "我/r 在/p 浙江/ns 金华/nr 出生/v\n",
      "我/r 在/p 四川/ns 金华/ns 出生/v\n",
      "我/r 的/u 名字/n 叫/v 金华/nr\n"
     ]
    }
   ],
   "source": [
    "# 感知机词法分析器\n",
    "analyzer = PerceptronLexicalAnalyzer()\n",
    "print(analyzer.analyze(\"上海华安工业（集团）公司董事长谭旭光和秘书胡花蕊来到美国纽约现代艺术博物馆参观\"))\n",
    "\n",
    "# 任何模型总会有失误，特别是98年这种陈旧的语料库\n",
    "print(analyzer.analyze(\"总统普京与特朗普通电话讨论太空探索技术公司\"))\n",
    "# 支持在线学习\n",
    "analyzer.learn(\"与/c 特朗普/nr 通/v 电话/n 讨论/v [太空/s 探索/vn 技术/n 公司/n]/nt\")\n",
    "# 学习到新知识\n",
    "print(analyzer.analyze(\"总统普京与特朗普通电话讨论太空探索技术公司\"))\n",
    "# 还可以举一反三\n",
    "print(analyzer.analyze(\"主席与特朗普通电话\"))\n",
    "print(analyzer.analyze(\"主席和特朗普通电话\"))\n",
    "\n",
    "# 知识的泛化不是死板的规则，而是比较灵活的统计信息\n",
    "print(analyzer.analyze(\"我在浙江金华出生\"))\n",
    "analyzer.learn(\"在/p 浙江/ns 金华/ns 出生/v\")\n",
    "print(analyzer.analyze(\"我在四川金华出生\"))\n",
    "print(analyzer.analyze(\"我的名字叫金华\"))"
   ]
  },
  {
   "cell_type": "code",
   "execution_count": 6,
   "metadata": {},
   "outputs": [
    {
     "name": "stdout",
     "output_type": "stream",
     "text": [
      "[攻城/vi, 狮/ng, 逆袭/nz, 单身/n, 狗/n, ，/w, 迎娶/v, 白富美/nr, ，/w, 走上/v, 人生/n, 巅峰/n]\n",
      "[攻城狮/nz, 逆袭/nz, 单身狗/nz, ，/w, 迎娶/v, 白富美/nz, ，/w, 走上/v, 人生/n, 巅峰/n]\n"
     ]
    }
   ],
   "source": [
    "# CustomDictionary.remove(\"攻城狮\")\n",
    "# CustomDictionary.remove(\"白富美\")\n",
    "# CustomDictionary.remove(\"单身狗\")\n",
    "# 动态增加\n",
    "text = \"攻城狮逆袭单身狗，迎娶白富美，走上人生巅峰\"  # 怎么可能噗哈哈！\n",
    "print(HanLP.segment(text))\n",
    "\n",
    "# 强行插入\n",
    "CustomDictionary.add(\"攻城狮\")\n",
    "CustomDictionary.insert(\"白富美\", \"nz 1024\")\n",
    "CustomDictionary.add(\"单身狗\", \"nz 1024 n 1\")\n",
    "CustomDictionary.get(\"单身狗\")\n",
    "text = \"攻城狮逆袭单身狗，迎娶白富美，走上人生巅峰\"  # 怎么可能噗哈哈！\n",
    "print(HanLP.segment(text))"
   ]
  },
  {
   "cell_type": "code",
   "execution_count": 7,
   "metadata": {},
   "outputs": [
    {
     "name": "stdout",
     "output_type": "stream",
     "text": [
      "[四川/ns, 普通人/n, 与/cc, 川/b, 普通/a, 电话/n]\n",
      "[四川/ns, 普通人/n, 与/cc, 川普/nr, 通电话/vi]\n"
     ]
    }
   ],
   "source": [
    "segment = HanLP.newSegment('viterbi')\n",
    "CustomDictionary.insert('川普', 'nr 1')\n",
    "print(segment.seg('四川普通人与川普通电话'))\n",
    "segment.enableCustomDictionaryForcing(True)\n",
    "print(segment.seg('四川普通人与川普通电话'))"
   ]
  },
  {
   "cell_type": "code",
   "execution_count": 8,
   "metadata": {},
   "outputs": [],
   "source": [
    "import zipfile\n",
    "import os\n",
    "from pyhanlp.static import download, remove_file, HANLP_DATA_PATH\n",
    "\n",
    "\n",
    "def test_data_path():\n",
    "    \"\"\"\n",
    "    获取测试数据路径，位于$root/data/test，根目录由配置文件指定。\n",
    "    :return:\n",
    "    \"\"\"\n",
    "    data_path = os.path.join(HANLP_DATA_PATH, 'test')\n",
    "    print(data_path)\n",
    "    if not os.path.isdir(data_path):\n",
    "        os.mkdir(data_path)\n",
    "    return data_path\n",
    "\n",
    "\n",
    "def ensure_data(data_name, data_url):\n",
    "    root_path = test_data_path()\n",
    "    dest_path = os.path.join(root_path, data_name)\n",
    "    print(dest_path)\n",
    "    if os.path.exists(dest_path):\n",
    "        return dest_path\n",
    "    if data_url.endswith('.zip'):\n",
    "        dest_path += '.zip'\n",
    "    download(data_url, dest_path)\n",
    "    if data_url.endswith('.zip'):\n",
    "        with zipfile.ZipFile(dest_path, \"r\") as archive:\n",
    "            archive.extractall(root_path)\n",
    "        remove_file(dest_path)\n",
    "        dest_path = dest_path[:-len('.zip')]\n",
    "    return dest_path"
   ]
  },
  {
   "cell_type": "code",
   "execution_count": 9,
   "metadata": {},
   "outputs": [
    {
     "name": "stdout",
     "output_type": "stream",
     "text": [
      "d:/users/jacen/anaconda3/lib/site-packages/pyhanlp/static\\data\\test\n",
      "d:/users/jacen/anaconda3/lib/site-packages/pyhanlp/static\\data\\test\\hanlp-wiki-vec-zh\n",
      "[语法=0.68476176, 方言=0.6454435, 词汇=0.6102719, 文字=0.60930157, 语系=0.6036772, 口语=0.59481555, 汉语=0.58868086, 语言学=0.57250684, 母语=0.56637216, 语族=0.56171715]\n",
      "奥运会女排夺冠 = 0.55\n",
      "世界锦标赛胜出 = 0.53\n",
      "中国足球失败 = 0.13\n",
      "山东苹果丰收 = -0.05\n",
      "农民在江苏种水稻 = -0.07\n"
     ]
    }
   ],
   "source": [
    "WordVectorModel = JClass('com.hankcs.hanlp.mining.word2vec.WordVectorModel')\n",
    "DocVectorModel = JClass('com.hankcs.hanlp.mining.word2vec.DocVectorModel')\n",
    "model_path = os.path.join(\n",
    "    ensure_data('hanlp-wiki-vec-zh',\n",
    "                'http://hanlp.linrunsoft.com/release/model/hanlp-wiki-vec-zh.zip'),\n",
    "    'hanlp-wiki-vec-zh.txt')\n",
    "\n",
    "word2vec = WordVectorModel(model_path)\n",
    "print(word2vec.nearest('语言'))\n",
    "\n",
    "doc2vec = DocVectorModel(word2vec)\n",
    "docs = [\"山东苹果丰收\", \"农民在江苏种水稻\", \"奥运会女排夺冠\", \"世界锦标赛胜出\", \"中国足球失败\"]\n",
    "for idx, doc in enumerate(docs):\n",
    "    doc2vec.addDocument(idx, doc)\n",
    "for res in doc2vec.nearest('我要看比赛'):\n",
    "    print('%s = %.2f' %\n",
    "          (docs[res.getKey().intValue()], res.getValue().floatValue()))"
   ]
  },
  {
   "cell_type": "code",
   "execution_count": 10,
   "metadata": {},
   "outputs": [],
   "source": [
    "import threading\n",
    "import time\n",
    "from pyhanlp import HanLP\n",
    "\n",
    "\n",
    "class MyThread(threading.Thread):\n",
    "    def __init__(self, thread_id, name, counter, lock):\n",
    "        threading.Thread.__init__(self)\n",
    "        self.threadID = thread_id\n",
    "        self.name = name\n",
    "        self.counter = counter\n",
    "        self.lock = lock\n",
    "\n",
    "    def run(self):\n",
    "        print(\"Starting \" + self.name)\n",
    "        # self.lock.acquire()\n",
    "        print_time(self.name, self.counter, 10)\n",
    "        # Free lock to release next thread\n",
    "        # self.lock.release()\n",
    "\n",
    "\n",
    "def print_time(thread_name, delay, counter):\n",
    "    while counter:\n",
    "        time.sleep(delay)\n",
    "        print(\"%s: %s, seg: %s\" % (thread_name, time.ctime(time.time()), HanLP.segment(\"攻城狮逆袭单身狗，迎娶白富美，走上人生巅峰\")))\n",
    "        counter -= 1"
   ]
  },
  {
   "cell_type": "code",
   "execution_count": 11,
   "metadata": {},
   "outputs": [
    {
     "name": "stdout",
     "output_type": "stream",
     "text": [
      "Starting Thread-1\n",
      "Starting Thread-2waiting to finish the thread\n",
      "\n",
      "Thread-1: Thu Aug 30 20:42:42 2018, seg: [攻城狮/nz, 逆袭/nz, 单身狗/nz, ，/w, 迎娶/v, 白富美/nz, ，/w, 走上/v, 人生/n, 巅峰/n]\n",
      "Thread-1: Thu Aug 30 20:42:43 2018, seg: [攻城狮/nz, 逆袭/nz, 单身狗/nz, ，/w, 迎娶/v, 白富美/nz, ，/w, 走上/v, 人生/n, 巅峰/n]\n",
      "Thread-2: Thu Aug 30 20:42:43 2018, seg: [攻城狮/nz, 逆袭/nz, 单身狗/nz, ，/w, 迎娶/v, 白富美/nz, ，/w, 走上/v, 人生/n, 巅峰/n]\n",
      "Thread-1: Thu Aug 30 20:42:44 2018, seg: [攻城狮/nz, 逆袭/nz, 单身狗/nz, ，/w, 迎娶/v, 白富美/nz, ，/w, 走上/v, 人生/n, 巅峰/n]\n",
      "Thread-1: Thu Aug 30 20:42:45 2018, seg: [攻城狮/nz, 逆袭/nz, 单身狗/nz, ，/w, 迎娶/v, 白富美/nz, ，/w, 走上/v, 人生/n, 巅峰/n]\n",
      "Thread-2: Thu Aug 30 20:42:45 2018, seg: [攻城狮/nz, 逆袭/nz, 单身狗/nz, ，/w, 迎娶/v, 白富美/nz, ，/w, 走上/v, 人生/n, 巅峰/n]\n",
      "Thread-1: Thu Aug 30 20:42:46 2018, seg: [攻城狮/nz, 逆袭/nz, 单身狗/nz, ，/w, 迎娶/v, 白富美/nz, ，/w, 走上/v, 人生/n, 巅峰/n]\n",
      "Thread-1: Thu Aug 30 20:42:47 2018, seg: [攻城狮/nz, 逆袭/nz, 单身狗/nz, ，/w, 迎娶/v, 白富美/nz, ，/w, 走上/v, 人生/n, 巅峰/n]\n",
      "Thread-2: Thu Aug 30 20:42:47 2018, seg: [攻城狮/nz, 逆袭/nz, 单身狗/nz, ，/w, 迎娶/v, 白富美/nz, ，/w, 走上/v, 人生/n, 巅峰/n]\n",
      "Thread-1: Thu Aug 30 20:42:48 2018, seg: [攻城狮/nz, 逆袭/nz, 单身狗/nz, ，/w, 迎娶/v, 白富美/nz, ，/w, 走上/v, 人生/n, 巅峰/n]\n",
      "Thread-1: Thu Aug 30 20:42:49 2018, seg: [攻城狮/nz, 逆袭/nz, 单身狗/nz, ，/w, 迎娶/v, 白富美/nz, ，/w, 走上/v, 人生/n, 巅峰/n]\n",
      "Thread-2: Thu Aug 30 20:42:49 2018, seg: [攻城狮/nz, 逆袭/nz, 单身狗/nz, ，/w, 迎娶/v, 白富美/nz, ，/w, 走上/v, 人生/n, 巅峰/n]\n",
      "Thread-1: Thu Aug 30 20:42:50 2018, seg: [攻城狮/nz, 逆袭/nz, 单身狗/nz, ，/w, 迎娶/v, 白富美/nz, ，/w, 走上/v, 人生/n, 巅峰/n]\n",
      "Thread-1: Thu Aug 30 20:42:51 2018, seg: [攻城狮/nz, 逆袭/nz, 单身狗/nz, ，/w, 迎娶/v, 白富美/nz, ，/w, 走上/v, 人生/n, 巅峰/n]\n",
      "Thread-2: Thu Aug 30 20:42:51 2018, seg: [攻城狮/nz, 逆袭/nz, 单身狗/nz, ，/w, 迎娶/v, 白富美/nz, ，/w, 走上/v, 人生/n, 巅峰/n]\n",
      "Thread-2: Thu Aug 30 20:42:53 2018, seg: [攻城狮/nz, 逆袭/nz, 单身狗/nz, ，/w, 迎娶/v, 白富美/nz, ，/w, 走上/v, 人生/n, 巅峰/n]\n",
      "Thread-2: Thu Aug 30 20:42:55 2018, seg: [攻城狮/nz, 逆袭/nz, 单身狗/nz, ，/w, 迎娶/v, 白富美/nz, ，/w, 走上/v, 人生/n, 巅峰/n]\n",
      "Thread-2: Thu Aug 30 20:42:57 2018, seg: [攻城狮/nz, 逆袭/nz, 单身狗/nz, ，/w, 迎娶/v, 白富美/nz, ，/w, 走上/v, 人生/n, 巅峰/n]\n",
      "Thread-2: Thu Aug 30 20:42:59 2018, seg: [攻城狮/nz, 逆袭/nz, 单身狗/nz, ，/w, 迎娶/v, 白富美/nz, ，/w, 走上/v, 人生/n, 巅峰/n]\n",
      "Thread-2: Thu Aug 30 20:43:01 2018, seg: [攻城狮/nz, 逆袭/nz, 单身狗/nz, ，/w, 迎娶/v, 白富美/nz, ，/w, 走上/v, 人生/n, 巅峰/n]\n",
      "Exiting Main Thread\n"
     ]
    }
   ],
   "source": [
    "threadLock = threading.Lock()\n",
    "\n",
    "thread1 = MyThread(1, \"Thread-1\", 1, threadLock)\n",
    "thread2 = MyThread(2, \"Thread-2\", 2, threadLock)\n",
    "\n",
    "thread1.start()\n",
    "thread2.start()\n",
    "\n",
    "print('waiting to finish the thread')\n",
    "\n",
    "thread1.join()\n",
    "thread2.join()\n",
    "\n",
    "print(\"Exiting Main Thread\")"
   ]
  },
  {
   "cell_type": "code",
   "execution_count": null,
   "metadata": {},
   "outputs": [],
   "source": []
  }
 ],
 "metadata": {
  "kernelspec": {
   "display_name": "Python 3",
   "language": "python",
   "name": "python3"
  },
  "language_info": {
   "codemirror_mode": {
    "name": "ipython",
    "version": 3
   },
   "file_extension": ".py",
   "mimetype": "text/x-python",
   "name": "python",
   "nbconvert_exporter": "python",
   "pygments_lexer": "ipython3",
   "version": "3.6.5"
  }
 },
 "nbformat": 4,
 "nbformat_minor": 2
}
