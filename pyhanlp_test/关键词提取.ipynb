{
 "cells": [
  {
   "cell_type": "code",
   "execution_count": 1,
   "metadata": {},
   "outputs": [],
   "source": [
    "from pyhanlp import *"
   ]
  },
  {
   "cell_type": "markdown",
   "metadata": {},
   "source": [
    "# 关键词提取"
   ]
  },
  {
   "cell_type": "code",
   "execution_count": 2,
   "metadata": {},
   "outputs": [
    {
     "name": "stdout",
     "output_type": "stream",
     "text": [
      "[程序员, 人员, 程序, 分为, 开发]\n"
     ]
    }
   ],
   "source": [
    "# 关键词提取\n",
    "content = (\n",
    "    \"程序员(英文Programmer)是从事程序开发、维护的专业人员。\"\n",
    "    \"一般将程序员分为程序设计人员和程序编码人员，\"\n",
    "    \"但两者的界限并不非常清楚，特别是在中国。\"\n",
    "    \"软件从业人员分为初级程序员、高级程序员、系统\"\n",
    "    \"分析员和项目经理四大类。\"\n",
    ")\n",
    "TextRankKeyword = JClass(\"com.hankcs.hanlp.summary.TextRankKeyword\")\n",
    "keyword_list = HanLP.extractKeyword(content, 5)\n",
    "print(keyword_list)"
   ]
  },
  {
   "cell_type": "code",
   "execution_count": null,
   "metadata": {},
   "outputs": [],
   "source": []
  }
 ],
 "metadata": {
  "kernelspec": {
   "display_name": "Python 3",
   "language": "python",
   "name": "python3"
  },
  "language_info": {
   "codemirror_mode": {
    "name": "ipython",
    "version": 3
   },
   "file_extension": ".py",
   "mimetype": "text/x-python",
   "name": "python",
   "nbconvert_exporter": "python",
   "pygments_lexer": "ipython3",
   "version": "3.6.5"
  }
 },
 "nbformat": 4,
 "nbformat_minor": 2
}
