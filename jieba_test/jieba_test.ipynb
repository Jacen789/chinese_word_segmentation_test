{
 "cells": [
  {
   "cell_type": "code",
   "execution_count": 1,
   "metadata": {},
   "outputs": [],
   "source": [
    "import jieba\n",
    "from importlib import reload"
   ]
  },
  {
   "cell_type": "code",
   "execution_count": 2,
   "metadata": {},
   "outputs": [
    {
     "name": "stderr",
     "output_type": "stream",
     "text": [
      "Building prefix dict from the default dictionary ...\n",
      "Loading model from cache C:\\Users\\Jacen\\AppData\\Local\\Temp\\jieba.cache\n",
      "Loading model cost 1.093 seconds.\n",
      "Prefix dict has been built succesfully.\n"
     ]
    }
   ],
   "source": [
    "jieba.initialize()"
   ]
  },
  {
   "cell_type": "code",
   "execution_count": 3,
   "metadata": {},
   "outputs": [],
   "source": [
    "test_contents = [\n",
    "    '张晓梅去人民医院做了个B超然后去买了件T恤',\n",
    "    'AT&T是一件不错的公司，给你发offer了吗？',\n",
    "    'C++和c#是什么关系？11+122=133，是吗？PI=3.14159',\n",
    "    '你认识那个和主席握手的的哥吗？他开一辆黑色的士。',\n",
    "    '枪杆子中出政权'\n",
    "]"
   ]
  },
  {
   "cell_type": "code",
   "execution_count": 4,
   "metadata": {},
   "outputs": [
    {
     "name": "stdout",
     "output_type": "stream",
     "text": [
      "张晓梅 , 去 , 人民 , 医院 , 做 , 了 , 个 , B超 , 然后 , 去 , 买 , 了 , 件 , T恤\n",
      "AT&T , 是 , 一件 , 不错 , 的 , 公司 , ， , 给 , 你 , 发 , offer , 了 , 吗 , ？\n",
      "C++ , 和 , c# , 是 , 什么 , 关系 , ？ , 11 , + , 122 , = , 133 , ， , 是 , 吗 , ？ , PI , = , 3.14159\n",
      "你 , 认识 , 那个 , 和 , 主席 , 握手 , 的 , 的哥 , 吗 , ？ , 他开 , 一辆 , 黑色 , 的士 , 。\n",
      "枪杆子 , 中 , 出 , 政权\n"
     ]
    }
   ],
   "source": [
    "for content in test_contents:\n",
    "    result = jieba.cut(content)\n",
    "    result = list(result)\n",
    "    print(\" , \".join(result))"
   ]
  },
  {
   "cell_type": "code",
   "execution_count": 5,
   "metadata": {},
   "outputs": [
    {
     "name": "stdout",
     "output_type": "stream",
     "text": [
      "张晓梅 , 去 , 人民 , 民医院 , 医院 , 做 , 了 , 个 , B , 超然 , 然后 , 后去 , 买 , 了 , 件 , T , 恤\n",
      "AT , T , 是 , 一件 , 不错 , 的 , 公司 ,  ,  , 给 , 你 , 发 , offer , 了 , 吗 ,  , \n",
      "C++ , 和 , c# , 是 , 什么 , 关系 ,  , 11+122 , 133 ,  , 是 , 吗 ,  , PI , 3 , 14159\n",
      "你 , 认识 , 那个 , 和 , 主席 , 握手 , 的 , 的哥 , 吗 ,  ,  , 他 , 开 , 一辆 , 黑色 , 的士 ,  , \n",
      "枪杆 , 枪杆子 , 杆子 , 中出 , 政权\n"
     ]
    }
   ],
   "source": [
    "for content in test_contents:\n",
    "    result = jieba.cut(content, cut_all=True)\n",
    "    result = list(result)\n",
    "    print(\" , \".join(result))"
   ]
  },
  {
   "cell_type": "code",
   "execution_count": 6,
   "metadata": {},
   "outputs": [
    {
     "name": "stderr",
     "output_type": "stream",
     "text": [
      "Building prefix dict from E:\\PythonProjects\\chinese_word_segmentation_test\\jieba_test\\data\\foobar.txt ...\n",
      "Dumping model to file cache C:\\Users\\Jacen\\AppData\\Local\\Temp\\jieba.u6214a1c651f280fecee2aca03e7d9f28.cache\n",
      "Loading model cost 0.072 seconds.\n",
      "Prefix dict has been built succesfully.\n"
     ]
    },
    {
     "name": "stdout",
     "output_type": "stream",
     "text": [
      "张晓梅 , 去 , 人民医院 , 做 , 了 , 个 , B , 超然 , 后 , 去 , 买 , 了 , 件 , T , 恤\n",
      "AT , & , T , 是 , 一件 , 不错 , 的 , 公司 , ， , 给 , 你 , 发 , offer , 了 , 吗 , ？\n",
      "C , ++ , 和 , c , # , 是 , 什么 , 关系 , ？ , 11 , + , 122 , = , 133 , ， , 是 , 吗 , ？ , PI , = , 3.14159\n",
      "你 , 认识 , 那个 , 和 , 主席握 , 手 , 的 , 的 , 哥 , 吗 , ？ , 他开 , 一辆 , 黑色 , 的 , 士 , 。\n",
      "枪杆子 , 中 , 出政权\n"
     ]
    }
   ],
   "source": [
    "jieba.set_dictionary(\"./data/foobar.txt\")\n",
    "for content in test_contents:\n",
    "    result = jieba.cut(content)\n",
    "    result = list(result)\n",
    "    print(\" , \".join(result))"
   ]
  },
  {
   "cell_type": "code",
   "execution_count": 7,
   "metadata": {},
   "outputs": [
    {
     "data": {
      "text/plain": [
       "<module 'jieba' from 'D:\\\\Users\\\\Jacen\\\\Anaconda3\\\\lib\\\\site-packages\\\\jieba\\\\__init__.py'>"
      ]
     },
     "execution_count": 7,
     "metadata": {},
     "output_type": "execute_result"
    }
   ],
   "source": [
    "reload(jieba)"
   ]
  },
  {
   "cell_type": "code",
   "execution_count": 8,
   "metadata": {},
   "outputs": [
    {
     "name": "stderr",
     "output_type": "stream",
     "text": [
      "Building prefix dict from the default dictionary ...\n",
      "Building prefix dict from the default dictionary ...\n",
      "Loading model from cache C:\\Users\\Jacen\\AppData\\Local\\Temp\\jieba.cache\n",
      "Loading model from cache C:\\Users\\Jacen\\AppData\\Local\\Temp\\jieba.cache\n",
      "Loading model cost 1.066 seconds.\n",
      "Loading model cost 1.066 seconds.\n",
      "Prefix dict has been built succesfully.\n",
      "Prefix dict has been built succesfully.\n"
     ]
    },
    {
     "name": "stdout",
     "output_type": "stream",
     "text": [
      "张晓梅 , 去 , 人民 , 医院 , 做 , 了 , 个 , B超 , 然后 , 去 , 买 , 了 , 件 , T恤\n",
      "AT&T , 是 , 一件 , 不错 , 的 , 公司 , ， , 给 , 你 , 发 , offer , 了 , 吗 , ？\n",
      "C++ , 和 , c# , 是 , 什么 , 关系 , ？ , 11 , + , 122 , = , 133 , ， , 是 , 吗 , ？ , PI , = , 3.14159\n",
      "你 , 认识 , 那个 , 和 , 主席 , 握手 , 的 , 的哥 , 吗 , ？ , 他开 , 一辆 , 黑色 , 的士 , 。\n",
      "枪杆 , 杆子 , 枪杆子 , 中 , 出 , 政权\n"
     ]
    }
   ],
   "source": [
    "for content in test_contents:\n",
    "    result = jieba.cut_for_search(content)\n",
    "    result = list(result)\n",
    "    print(\" , \".join(result))"
   ]
  },
  {
   "cell_type": "code",
   "execution_count": 9,
   "metadata": {},
   "outputs": [
    {
     "name": "stdout",
     "output_type": "stream",
     "text": [
      "张晓梅 / nr , 去 / v , 人民 / n , 医院 / n , 做 / v , 了 / ul , 个 / q , B超 / n , 然后 / c , 去 / v , 买 / v , 了 / ul , 件 / q , T恤 / n\n",
      "AT&T / nz , 是 / v , 一件 / m , 不错 / a , 的 / uj , 公司 / n , ， / x , 给 / p , 你 / r , 发 / v , offer / eng , 了 / ul , 吗 / y , ？ / x\n",
      "C++ / nz , 和 / c , c# / nz , 是 / v , 什么 / r , 关系 / n , ？ / x , 11 / m , + / x , 122 / m , = / x , 133 / m , ， / x , 是 / v , 吗 / y , ？ / x , PI / eng , = / x , 3.14159 / m\n",
      "你 / r , 认识 / v , 那个 / r , 和 / c , 主席 / n , 握手 / v , 的 / uj , 的哥 / n , 吗 / y , ？ / x , 他 / r , 开 / v , 一辆 / m , 黑色 / n , 的士 / n , 。 / x\n",
      "枪杆子 / n , 中 / f , 出 / v , 政权 / n\n"
     ]
    }
   ],
   "source": [
    "import jieba.posseg as pseg\n",
    "\n",
    "for content in test_contents:\n",
    "    result = pseg.cut(content)\n",
    "    result = list(result)\n",
    "    print(\" , \".join([w.word + \" / \" + w.flag for w in result]))"
   ]
  },
  {
   "cell_type": "code",
   "execution_count": 10,
   "metadata": {},
   "outputs": [
    {
     "name": "stdout",
     "output_type": "stream",
     "text": [
      "word 张晓梅\t\t start: 0 \t\t end:3\n",
      "word 去\t\t start: 3 \t\t end:4\n",
      "word 人民\t\t start: 4 \t\t end:6\n",
      "word 医院\t\t start: 6 \t\t end:8\n",
      "word 做\t\t start: 8 \t\t end:9\n",
      "word 了\t\t start: 9 \t\t end:10\n",
      "word 个\t\t start: 10 \t\t end:11\n",
      "word B超\t\t start: 11 \t\t end:13\n",
      "word 然后\t\t start: 13 \t\t end:15\n",
      "word 去\t\t start: 15 \t\t end:16\n",
      "word 买\t\t start: 16 \t\t end:17\n",
      "word 了\t\t start: 17 \t\t end:18\n",
      "word 件\t\t start: 18 \t\t end:19\n",
      "word T恤\t\t start: 19 \t\t end:21\n",
      "word AT&T\t\t start: 0 \t\t end:4\n",
      "word 是\t\t start: 4 \t\t end:5\n",
      "word 一件\t\t start: 5 \t\t end:7\n",
      "word 不错\t\t start: 7 \t\t end:9\n",
      "word 的\t\t start: 9 \t\t end:10\n",
      "word 公司\t\t start: 10 \t\t end:12\n",
      "word ，\t\t start: 12 \t\t end:13\n",
      "word 给\t\t start: 13 \t\t end:14\n",
      "word 你\t\t start: 14 \t\t end:15\n",
      "word 发\t\t start: 15 \t\t end:16\n",
      "word offer\t\t start: 16 \t\t end:21\n",
      "word 了\t\t start: 21 \t\t end:22\n",
      "word 吗\t\t start: 22 \t\t end:23\n",
      "word ？\t\t start: 23 \t\t end:24\n"
     ]
    }
   ],
   "source": [
    "for content in test_contents[:2]:\n",
    "    result = jieba.tokenize(content)\n",
    "    result = list(result)\n",
    "    for tk in result:\n",
    "        print(\"word %s\\t\\t start: %d \\t\\t end:%d\" % (tk[0], tk[1], tk[2]))"
   ]
  },
  {
   "cell_type": "code",
   "execution_count": 11,
   "metadata": {},
   "outputs": [
    {
     "name": "stdout",
     "output_type": "stream",
     "text": [
      "张晓梅 , 去 , 人民 , 医院 , 做 , 了 , 个 , B超 , 然后 , 去 , 买 , 了 , 件 , T恤\n",
      "AT&T , 是 , 一件 , 不错 , 的 , 公司 , ， , 给 , 你 , 发 , offer , 了 , 吗 , ？\n",
      "C++ , 和 , c# , 是 , 什么 , 关系 , ？ , 11 , + , 122 , = , 133 , ， , 是 , 吗 , ？ , PI , = , 3 , . , 14159\n",
      "你 , 认识 , 那个 , 和 , 主席 , 握手 , 的 , 的哥 , 吗 , ？ , 他 , 开 , 一辆 , 黑色 , 的士 , 。\n",
      "枪杆子 , 中 , 出 , 政权\n"
     ]
    }
   ],
   "source": [
    "for content in test_contents:\n",
    "    result = jieba.cut(content, HMM=False)\n",
    "    result = list(result)\n",
    "    print(\" , \".join(result))"
   ]
  },
  {
   "cell_type": "code",
   "execution_count": 12,
   "metadata": {},
   "outputs": [
    {
     "name": "stdout",
     "output_type": "stream",
     "text": [
      "张晓梅 / nr , 去 / v , 人民 / n , 医院 / n , 做 / v , 了 / ul , 个 / q , B超 / n , 然后 / c , 去 / v , 买 / v , 了 / ul , 件 / zg , T恤 / n\n",
      "AT&T / nz , 是 / v , 一件 / m , 不错 / a , 的 / uj , 公司 / n , ， / x , 给 / p , 你 / r , 发 / v , offer / eng , 了 / ul , 吗 / y , ？ / x\n",
      "C++ / nz , 和 / c , c# / nz , 是 / v , 什么 / r , 关系 / n , ？ / x , 11 / eng , + / x , 122 / eng , = / x , 133 / eng , ， / x , 是 / v , 吗 / y , ？ / x , PI / eng , = / x , 3 / eng , . / x , 14159 / eng\n",
      "你 / r , 认识 / v , 那个 / r , 和 / c , 主席 / n , 握手 / v , 的 / uj , 的哥 / n , 吗 / y , ？ / x , 他 / r , 开 / v , 一辆 / m , 黑色 / n , 的士 / n , 。 / x\n",
      "枪杆子 / n , 中 / f , 出 / v , 政权 / n\n"
     ]
    }
   ],
   "source": [
    "import jieba.posseg as pseg\n",
    "\n",
    "for content in test_contents:\n",
    "    result = pseg.cut(content, HMM=False)\n",
    "    result = list(result)\n",
    "    print(\" , \".join([w.word + \" / \" + w.flag for w in result]))"
   ]
  },
  {
   "cell_type": "code",
   "execution_count": 13,
   "metadata": {},
   "outputs": [
    {
     "name": "stdout",
     "output_type": "stream",
     "text": [
      "word 张晓梅\t\t start: 0 \t\t end:3\n",
      "word 去\t\t start: 3 \t\t end:4\n",
      "word 人民\t\t start: 4 \t\t end:6\n",
      "word 医院\t\t start: 6 \t\t end:8\n",
      "word 做\t\t start: 8 \t\t end:9\n",
      "word 了\t\t start: 9 \t\t end:10\n",
      "word 个\t\t start: 10 \t\t end:11\n",
      "word B超\t\t start: 11 \t\t end:13\n",
      "word 然后\t\t start: 13 \t\t end:15\n",
      "word 去\t\t start: 15 \t\t end:16\n",
      "word 买\t\t start: 16 \t\t end:17\n",
      "word 了\t\t start: 17 \t\t end:18\n",
      "word 件\t\t start: 18 \t\t end:19\n",
      "word T恤\t\t start: 19 \t\t end:21\n",
      "word AT&T\t\t start: 0 \t\t end:4\n",
      "word 是\t\t start: 4 \t\t end:5\n",
      "word 一件\t\t start: 5 \t\t end:7\n",
      "word 不错\t\t start: 7 \t\t end:9\n",
      "word 的\t\t start: 9 \t\t end:10\n",
      "word 公司\t\t start: 10 \t\t end:12\n",
      "word ，\t\t start: 12 \t\t end:13\n",
      "word 给\t\t start: 13 \t\t end:14\n",
      "word 你\t\t start: 14 \t\t end:15\n",
      "word 发\t\t start: 15 \t\t end:16\n",
      "word offer\t\t start: 16 \t\t end:21\n",
      "word 了\t\t start: 21 \t\t end:22\n",
      "word 吗\t\t start: 22 \t\t end:23\n",
      "word ？\t\t start: 23 \t\t end:24\n"
     ]
    }
   ],
   "source": [
    "for content in test_contents[:2]:\n",
    "    result = jieba.tokenize(content, HMM=False)\n",
    "    result = list(result)\n",
    "    for tk in result:\n",
    "        print(\"word %s\\t\\t start: %d \\t\\t end:%d\" % (tk[0], tk[1], tk[2]))"
   ]
  },
  {
   "cell_type": "code",
   "execution_count": 14,
   "metadata": {},
   "outputs": [
    {
     "name": "stdout",
     "output_type": "stream",
     "text": [
      "张晓梅 , 去 , 人民 , 医院 , 做 , 了 , 个 , B超 , 然后 , 去 , 买 , 了 , 件 , T恤\n",
      "AT&T , 是 , 一件 , 不错 , 的 , 公司 , ， , 给 , 你 , 发 , offer , 了 , 吗 , ？\n",
      "C++ , 和 , c# , 是 , 什么 , 关系 , ？ , 11 , + , 122 , = , 133 , ， , 是 , 吗 , ？ , PI , = , 3 , . , 14159\n",
      "你 , 认识 , 那个 , 和 , 主席 , 握手 , 的 , 的哥 , 吗 , ？ , 他 , 开 , 一辆 , 黑色 , 的士 , 。\n",
      "枪杆 , 杆子 , 枪杆子 , 中 , 出 , 政权\n"
     ]
    }
   ],
   "source": [
    "for content in test_contents:\n",
    "    result = jieba.cut_for_search(content, HMM=False)\n",
    "    result = list(result)\n",
    "    print(\" , \".join(result))"
   ]
  },
  {
   "cell_type": "code",
   "execution_count": 15,
   "metadata": {},
   "outputs": [
    {
     "name": "stdout",
     "output_type": "stream",
     "text": [
      "看上去 / iphone8 / 手机 / 样式 / 很赞 / , / 售价 / 699 / 美元 / , / 销量 / 涨 / 了 / 5% / 么 / ？\n"
     ]
    }
   ],
   "source": [
    "test_sent = '看上去iphone8手机样式很赞,售价699美元,销量涨了5%么？'\n",
    "result = jieba.cut(test_sent)\n",
    "print(\" / \".join(result))"
   ]
  },
  {
   "cell_type": "code",
   "execution_count": 16,
   "metadata": {},
   "outputs": [
    {
     "name": "stdout",
     "output_type": "stream",
     "text": [
      "看上去 / iphone8 / 手机 / 样式 / 很 / 赞 / , / 售价 / 699 / 美元 / , / 销量 / 涨 / 了 / 5% / 么 / ？\n"
     ]
    }
   ],
   "source": [
    "jieba.del_word('很赞')\n",
    "test_sent = '看上去iphone8手机样式很赞,售价699美元,销量涨了5%么？'\n",
    "result = jieba.cut(test_sent)\n",
    "print(\" / \".join(result))"
   ]
  },
  {
   "cell_type": "code",
   "execution_count": null,
   "metadata": {},
   "outputs": [],
   "source": []
  }
 ],
 "metadata": {
  "kernelspec": {
   "display_name": "Python 3",
   "language": "python",
   "name": "python3"
  },
  "language_info": {
   "codemirror_mode": {
    "name": "ipython",
    "version": 3
   },
   "file_extension": ".py",
   "mimetype": "text/x-python",
   "name": "python",
   "nbconvert_exporter": "python",
   "pygments_lexer": "ipython3",
   "version": "3.6.5"
  }
 },
 "nbformat": 4,
 "nbformat_minor": 2
}
