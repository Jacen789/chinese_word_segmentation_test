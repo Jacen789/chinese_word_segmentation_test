{
 "cells": [
  {
   "cell_type": "code",
   "execution_count": 1,
   "metadata": {},
   "outputs": [],
   "source": [
    "import jieba\n",
    "import jieba.analyse"
   ]
  },
  {
   "cell_type": "markdown",
   "metadata": {},
   "source": [
    "# 基于 TF-IDF 算法的关键词抽取"
   ]
  },
  {
   "cell_type": "code",
   "execution_count": 2,
   "metadata": {},
   "outputs": [],
   "source": [
    "file_name = './data/lyric.txt'\n",
    "topK = 10\n",
    "withWeight = True"
   ]
  },
  {
   "cell_type": "code",
   "execution_count": 3,
   "metadata": {},
   "outputs": [
    {
     "name": "stderr",
     "output_type": "stream",
     "text": [
      "Building prefix dict from the default dictionary ...\n",
      "Loading model from cache C:\\Users\\Jacen\\AppData\\Local\\Temp\\jieba.cache\n",
      "Loading model cost 1.084 seconds.\n",
      "Prefix dict has been built succesfully.\n"
     ]
    },
    {
     "name": "stdout",
     "output_type": "stream",
     "text": [
      "所謂,是否,一般,沒有,矯作,退縮,肌迫,雖然,怯懦,真實\n"
     ]
    }
   ],
   "source": [
    "content = open(file_name, 'rb').read()\n",
    "tags = jieba.analyse.extract_tags(content, topK=topK)\n",
    "print(\",\".join(tags))"
   ]
  },
  {
   "cell_type": "code",
   "execution_count": 4,
   "metadata": {},
   "outputs": [
    {
     "name": "stdout",
     "output_type": "stream",
     "text": [
      "一般,所謂,是否,只有,怯懦,矯作,退縮,肌迫,只是,有心\n"
     ]
    }
   ],
   "source": [
    "content = open(file_name, 'rb').read()\n",
    "jieba.analyse.set_idf_path(\"./extra_dict/idf.txt.big\")  # file_name为自定义语料库的路径\n",
    "tags = jieba.analyse.extract_tags(content, topK=topK)\n",
    "print(\",\".join(tags))"
   ]
  },
  {
   "cell_type": "code",
   "execution_count": 5,
   "metadata": {},
   "outputs": [
    {
     "name": "stdout",
     "output_type": "stream",
     "text": [
      "一般,所謂,只有,怯懦,矯作,退縮,肌迫,只是,有心,真實\n"
     ]
    }
   ],
   "source": [
    "content = open(file_name, 'rb').read()\n",
    "jieba.analyse.set_stop_words(\"./extra_dict/stop_words.txt\")\n",
    "jieba.analyse.set_idf_path(\"./extra_dict/idf.txt.big\");\n",
    "tags = jieba.analyse.extract_tags(content, topK=topK)\n",
    "print(\",\".join(tags))"
   ]
  },
  {
   "cell_type": "code",
   "execution_count": 6,
   "metadata": {},
   "outputs": [
    {
     "name": "stdout",
     "output_type": "stream",
     "text": [
      "tag: 一般\t\t weight: 2.026232\n",
      "tag: 所謂\t\t weight: 1.215739\n",
      "tag: 只有\t\t weight: 0.405246\n",
      "tag: 怯懦\t\t weight: 0.405246\n",
      "tag: 矯作\t\t weight: 0.405246\n",
      "tag: 退縮\t\t weight: 0.405246\n",
      "tag: 肌迫\t\t weight: 0.405246\n",
      "tag: 只是\t\t weight: 0.405246\n",
      "tag: 有心\t\t weight: 0.202623\n",
      "tag: 真實\t\t weight: 0.202623\n"
     ]
    }
   ],
   "source": [
    "content = open(file_name, 'rb').read()\n",
    "tags = jieba.analyse.extract_tags(content, topK=topK, withWeight=withWeight)\n",
    "if withWeight is True:\n",
    "    for tag in tags:\n",
    "        print(\"tag: %s\\t\\t weight: %f\" % (tag[0], tag[1]))\n",
    "else:\n",
    "    print(\",\".join(tags))"
   ]
  },
  {
   "cell_type": "markdown",
   "metadata": {},
   "source": [
    "# 基于 TextRank 算法的关键词抽取"
   ]
  },
  {
   "cell_type": "code",
   "execution_count": 7,
   "metadata": {},
   "outputs": [],
   "source": [
    "s = \"此外，公司拟对全资子公司吉林欧亚置业有限公司增资4.3亿元，增资后，吉林欧亚置业注册资本由7000万元增加到5亿元。吉林欧亚置业主要经营范围为房地产开发及百货零售等业务。目前在建吉林欧亚城市商业综合体项目。2013年，实现营业收入0万元，实现净利润-139.13万元。\""
   ]
  },
  {
   "cell_type": "code",
   "execution_count": 8,
   "metadata": {},
   "outputs": [
    {
     "name": "stdout",
     "output_type": "stream",
     "text": [
      "吉林 1.0\n",
      "欧亚 0.9966893354178172\n",
      "置业 0.6434360313092776\n",
      "实现 0.5898606692859626\n",
      "收入 0.43677859947991454\n",
      "增资 0.4099900531283276\n",
      "子公司 0.35678295947672795\n",
      "城市 0.34971383667403655\n",
      "商业 0.34817220716026936\n",
      "业务 0.3092230992619838\n",
      "在建 0.3077929164033088\n",
      "营业 0.3035777049319588\n",
      "全资 0.303540981053475\n",
      "综合体 0.29580869172394825\n",
      "注册资本 0.29000519464085045\n",
      "有限公司 0.2807830798576574\n",
      "零售 0.27883620861218145\n",
      "百货 0.2781657628445476\n",
      "开发 0.2693488779295851\n",
      "经营范围 0.2642762173558316\n"
     ]
    }
   ],
   "source": [
    "for x, w in jieba.analyse.textrank(s, withWeight=True):\n",
    "    print('%s %s' % (x, w))"
   ]
  },
  {
   "cell_type": "code",
   "execution_count": null,
   "metadata": {},
   "outputs": [],
   "source": []
  }
 ],
 "metadata": {
  "kernelspec": {
   "display_name": "Python 3",
   "language": "python",
   "name": "python3"
  },
  "language_info": {
   "codemirror_mode": {
    "name": "ipython",
    "version": 3
   },
   "file_extension": ".py",
   "mimetype": "text/x-python",
   "name": "python",
   "nbconvert_exporter": "python",
   "pygments_lexer": "ipython3",
   "version": "3.6.5"
  }
 },
 "nbformat": 4,
 "nbformat_minor": 2
}
